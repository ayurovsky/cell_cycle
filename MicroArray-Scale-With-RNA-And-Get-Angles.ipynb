{
 "cells": [
  {
   "cell_type": "markdown",
   "metadata": {},
   "source": [
    "# Exploratory stuff from 1st half of September\n",
    "\n",
    "## Plot max expression angles for all genes\n",
    "\n",
    "## Get angles for each time course point\n",
    "\n",
    "## Scale each micro-array value with GTEX median tpm, for now, whole blood\n",
    "\n",
    "## See distribution of how many genes vote for a given angle toward the value"
   ]
  },
  {
   "cell_type": "code",
   "execution_count": 73,
   "metadata": {
    "collapsed": true
   },
   "outputs": [],
   "source": [
    "# Read in the GTex Data pick tissue to use for normalization\n",
    "#gtex paper: cite? https://www.ncbi.nlm.nih.gov/pmc/articles/PMC4010069/\n",
    "# https://gtexportal.org/home/datasets\n",
    "# This file contains the median TPM by tissue. These medians were calculated directly from the file GTEx_Analysis_2016-01-15_v7_RNASeQCv1.1.8_gene_tpm.gct.gz.\n",
    "# wget https://storage.googleapis.com/gtex_analysis_v7/rna_seq_data/GTEx_Analysis_2016-01-15_v7_RNASeQCv1.1.8_gene_median_tpm.gct.gz\n",
    "# for now, picking whole blood\n",
    "import pandas as pd\n",
    "tpm_df = pd.read_csv(\"GTEx_Analysis_2016-01-15_v7_RNASeQCv1.1.8_gene_median_tpm.gct\", sep='\\t')\n",
    "gene_name_to_tpm_dict = dict()\n",
    "for index, row in tpm_df.iterrows():\n",
    "    gene_name_to_tpm_dict[row[\"Description\"]] = row[\"Whole Blood\"]\n"
   ]
  },
  {
   "cell_type": "code",
   "execution_count": 339,
   "metadata": {
    "collapsed": false
   },
   "outputs": [
    {
     "name": "stdout",
     "output_type": "stream",
     "text": [
      "1230\n"
     ]
    }
   ],
   "source": [
    "# Read in the micro-array data - so far only founds matches between 1230 genes in whitfield in the 56K genes from GTEX\n",
    "# TODO - get better name mapping\n",
    "import math\n",
    "import numpy as np\n",
    "count = 0\n",
    "count_found = 0\n",
    "whitfield_micro_array_df = pd.read_csv(\"Whitfield_2013_cell_cycle_2830_all_scores.csv\")\n",
    "\n",
    "gene_names_with_micro_array_data = list()\n",
    "\n",
    "time_course_1_angles_list = list()\n",
    "time_course_2_angles_list = list()\n",
    "time_course_3_angles_list = list()\n",
    "time_course_4_angles_list = list()\n",
    "gene_name_to_time_course_expressions_dict = dict()\n",
    "\n",
    "# calculate the angles for the 4 time courses\n",
    "for i in range(0,40,2): #t-course 1 T = 17.65, φ = 0.0\n",
    "    #print(math.atan2(math.sin((i/17.65)*2*math.pi),math.cos((i/17.65)*2*math.pi))) # with negative radians\n",
    "    time_course_1_angles_list.append(((i/17.65)*2*math.pi)%(2*math.pi)) # 0 to 2pi\n",
    "for i in range(0,48,2): #t-course 2 T = 18.6, φ = 0.0\n",
    "    #print(math.atan2(math.sin((i/18.6)*2*math.pi),math.cos((i/18.6)*2*math.pi))) # with negative radians\n",
    "    time_course_2_angles_list.append(((i/18.6)*2*math.pi)%(2*math.pi)) # 0 to 2pi\n",
    "for i in range(0,48,2): #t-course 3 T = 18, φ = 0.0\n",
    "    #print(math.atan2(math.sin((i/18)*2*math.pi),math.cos((i/18)*2*math.pi))) # with negative radians\n",
    "    time_course_3_angles_list.append(((i/18)*2*math.pi)%(2*math.pi)) # 0 to 2pi\n",
    "for i in range(0,46,2): #t-course 4 T = 23.95, φ = 2.3\n",
    "    #print(math.atan2(math.sin((i/23.95)*2*math.pi + 2.3),math.cos((i/23.95)*2*math.pi + 2.3))) # with negative radians\n",
    "    time_course_4_angles_list.append(((i/23.95)*2*math.pi + 2.3)%(2*math.pi)) # 0 to 2pi\n",
    "    \n",
    "for index, row in whitfield_micro_array_df.iterrows():\n",
    "    count +=1\n",
    "    name = str(row['NAME'])\n",
    "    if (name != 'nan'):\n",
    "        #print(\"___\" + name + \"___\")\n",
    "        names = name.split(\"^\")\n",
    "        if (len(names) > 1):\n",
    "            #print(\"___\" + names[1] + \"___\")\n",
    "            gene_name = names[1].strip()\n",
    "            if (gene_name in gene_name_to_tpm_dict and not(gene_name in gene_names_with_micro_array_data)):\n",
    "                \n",
    "                \n",
    "                ####!!!! cut-off to have just a few top cycling genes\n",
    "                scaled_fourier_score = float(row['Scaled Fourier'])\n",
    "                #if (scaled_fourier_score < 10.0):\n",
    "                 #   continue\n",
    "                tpm = gene_name_to_tpm_dict[gene_name]\n",
    "                #print(gene_name + \" is found\")\n",
    "                gene_names_with_micro_array_data.append(gene_name)\n",
    "                count_found += 1\n",
    "                gene_name_to_time_course_expressions_dict[gene_name] = dict()\n",
    "                gene_name_to_time_course_expressions_dict[gene_name][\"one\"] = list()\n",
    "                \n",
    "                \n",
    "                new_row = row[11:31].replace(r'\\s+', np.nan, regex=True)\n",
    "                new_row = new_row.fillna(0)\n",
    "                row[11:31] = new_row\n",
    "            \n",
    "                new_row = row[32:56].replace(r'\\s+', np.nan, regex=True)\n",
    "                new_row = new_row.fillna(0)\n",
    "                row[32:56] = new_row\n",
    "                \n",
    "                new_row = row[57:81].replace(r'\\s+', np.nan, regex=True)\n",
    "                new_row = new_row.fillna(0)\n",
    "                row[57:81] = new_row\n",
    "                \n",
    "                new_row = row[82:105].replace(r'\\s+', np.nan, regex=True)\n",
    "                new_row = new_row.fillna(0)\n",
    "                row[82:105] = new_row\n",
    "                \n",
    "                #if(gene_name == \"PITPNC1\"):\n",
    "                 #   print(row)\n",
    "                \n",
    "                for i in range(11,31):\n",
    "                    gene_name_to_time_course_expressions_dict[gene_name][\"one\"].append((2**row[i]) * tpm if row[i] else 0) # undo the log2 of data\n",
    "                gene_name_to_time_course_expressions_dict[gene_name][\"two\"] = list()\n",
    "                for i in range(32,56):\n",
    "                    gene_name_to_time_course_expressions_dict[gene_name][\"two\"].append((2**row[i]) * tpm if row[i] else 0) # undo the log2 of data\n",
    "                gene_name_to_time_course_expressions_dict[gene_name][\"three\"] = list()\n",
    "                for i in range(57,81):\n",
    "                    gene_name_to_time_course_expressions_dict[gene_name][\"three\"].append((2**row[i]) * tpm if row[i] else 0) # undo the log2 of data\n",
    "                gene_name_to_time_course_expressions_dict[gene_name][\"four\"] = list()\n",
    "                for i in range(82,105):\n",
    "                    gene_name_to_time_course_expressions_dict[gene_name][\"four\"].append((2**row[i]) * tpm if row[i] else 0) # undo the log2 of data\n",
    "    \n",
    "                gene_name_to_time_course_expressions_dict[gene_name][\"sine\"] = row['Sin']\n",
    "                gene_name_to_time_course_expressions_dict[gene_name][\"cosine\"] = row['Cos']\n",
    "                gene_name_to_time_course_expressions_dict[gene_name][\"phase\"] = row['Phase'].strip()\n",
    "print(count_found)\n",
    "#print(gene_name_to_time_course_expressions_dict['KLF6'])\n",
    "\n",
    "#print(gene_name_to_time_course_expressions_dict[\"PITPNC1\"])"
   ]
  },
  {
   "cell_type": "code",
   "execution_count": 174,
   "metadata": {
    "collapsed": false
   },
   "outputs": [],
   "source": [
    "# read in the single-cell data, and identify the set of genes that also have micro-array/tpm expression (1114)\n",
    "# for each cell, get percentage of reads for each gene\n",
    "# for the micro-array set, get percentage of \"expression\" for each gene\n",
    "# for each gene, get the best match of percentages for each of the time-courses, and take an average angle\n",
    "# then take the average angle of all the genes - that gives the phase\n",
    "nestorova_df = pd.read_table(\"nestorawa_forcellcycle_expressionMatrix.txt.gz\", compression='gzip', index_col = 0)"
   ]
  },
  {
   "cell_type": "code",
   "execution_count": 340,
   "metadata": {
    "collapsed": false
   },
   "outputs": [
    {
     "name": "stdout",
     "output_type": "stream",
     "text": [
      "1114\n"
     ]
    }
   ],
   "source": [
    "## subset micro-array and single-cell data for 1114 genes\n",
    "count = 0\n",
    "whitfield_subset_micro_array_df = pd.DataFrame(columns = range(0,91))\n",
    "cell_cycle_genes_for_analysis = list()\n",
    "for index, row in nestorova_df.iterrows():\n",
    "    if index in gene_names_with_micro_array_data:\n",
    "        count += 1\n",
    "        gene_name = index\n",
    "        cell_cycle_genes_for_analysis.append(gene_name)\n",
    "        whitfield_subset_micro_array_df.loc[gene_name] = gene_name_to_time_course_expressions_dict[gene_name][\"one\"] + gene_name_to_time_course_expressions_dict[gene_name][\"two\"] + gene_name_to_time_course_expressions_dict[gene_name][\"three\"] + gene_name_to_time_course_expressions_dict[gene_name][\"four\"]\n",
    "nestorova_subset_df = pd.DataFrame(nestorova_df.loc[cell_cycle_genes_for_analysis])\n",
    "print(count)"
   ]
  },
  {
   "cell_type": "code",
   "execution_count": 310,
   "metadata": {
    "collapsed": false
   },
   "outputs": [
    {
     "name": "stdout",
     "output_type": "stream",
     "text": [
      "[0.0, 0.7119756722016529, 1.4239513444033058, 2.1359270166049584, 2.8479026888066117, 3.559878361008264, 4.271854033209917, 4.98382970541157, 5.695805377613223, 0.1245957426352895, 0.8365714148369419, 1.5485470870385951, 2.2605227592402475, 2.9724984314419007, 3.684474103643554, 4.396449775845207, 5.1084254480468605, 5.820401120248514, 0.249191485270579, 0.9611671574722322]\n",
      "0.0\n"
     ]
    }
   ],
   "source": [
    "print(time_course_1_angles_list)\n",
    "for gene_angle in time_course_1_angles_list:\n",
    "    if (gene_angle <= 0):\n",
    "        print(gene_angle)"
   ]
  },
  {
   "cell_type": "code",
   "execution_count": 341,
   "metadata": {
    "collapsed": false
   },
   "outputs": [],
   "source": [
    "# express each column as a percentage\n",
    "whitfield_subset_micro_array_df = whitfield_subset_micro_array_df.div(whitfield_subset_micro_array_df.sum(axis=0))\n",
    "nestorova_subset_df = nestorova_subset_df.div(nestorova_subset_df.sum(axis=0))\n",
    "#print(nestorova_subset_df)"
   ]
  },
  {
   "cell_type": "code",
   "execution_count": 342,
   "metadata": {
    "collapsed": false
   },
   "outputs": [
    {
     "data": {
      "image/png": "[encoded data removed]",
      "text/plain": [
       "<matplotlib.figure.Figure at 0x7f54801049b0>"
      ]
     },
     "metadata": {},
     "output_type": "display_data"
    }
   ],
   "source": [
    "# process 1st cell\n",
    "cell_name = \"Prog_013\"\n",
    "all_genes_angle_list = list()\n",
    "all_genes_sine_sum = 0\n",
    "all_genes_cosine_sum = 0\n",
    "count = 0\n",
    "for gene_name in cell_cycle_genes_for_analysis:\n",
    "    expression_scRNA = nestorova_subset_df[cell_name][gene_name]\n",
    "    if (not expression_scRNA): # no reads in single cell, do not consider\n",
    "        continue\n",
    "    \n",
    "    #if (gene_name == 'PITPNC1'):\n",
    "     #   print(whitfield_subset_micro_array_df.loc[gene_name])\n",
    "    \n",
    "    # process the first time course\n",
    "    best_diff_1 = math.inf\n",
    "    best_angle_1 = -1\n",
    "    for i in range(0, 20):\n",
    "        diff = abs(whitfield_subset_micro_array_df.loc[gene_name][i+0] - expression_scRNA)\n",
    "        if (diff < best_diff_1 and (whitfield_subset_micro_array_df.loc[gene_name][i+0] != 0)):\n",
    "            best_diff_1 = diff\n",
    "            best_angle_1 = time_course_1_angles_list[i]\n",
    "    \n",
    "    # TODO:\n",
    "    if (best_angle_1 == -1):  # TODO: deal with things here - expand to other time courses perhaps\n",
    "            continue\n",
    "            \n",
    "        \n",
    "    #print(whitfield_subset_micro_array_df.loc[gene_name])\n",
    "    #print(best_diff_1)\n",
    "    #print(best_angle_1)\n",
    "    # process the second time course\n",
    "    best_diff_2 = math.inf\n",
    "    best_angle_2 = -1\n",
    "    for i in range(0, 24):\n",
    "        diff = abs(whitfield_subset_micro_array_df.loc[gene_name][i+20] - expression_scRNA)\n",
    "        if (diff < best_diff_2 and (whitfield_subset_micro_array_df.loc[gene_name][i+20] != 0)):\n",
    "            best_diff_2 = diff\n",
    "            best_angle_2 = time_course_2_angles_list[i]\n",
    "            \n",
    "    #print(whitfield_subset_micro_array_df.loc[gene_name][20:44])\n",
    "    #print(best_diff_2)\n",
    "    #print(best_angle_2)\n",
    "    # process the third time course\n",
    "    best_diff_3 = math.inf\n",
    "    best_angle_3 = -1\n",
    "    for i in range(0, 24):\n",
    "        diff = abs(whitfield_subset_micro_array_df.loc[gene_name][i+44] - expression_scRNA)\n",
    "        if (diff < best_diff_3):\n",
    "            best_diff_3 = diff\n",
    "            best_angle_3 = time_course_3_angles_list[i]\n",
    "    #print(whitfield_subset_micro_array_df.loc[gene_name][44:68])\n",
    "    #print(best_diff_3)\n",
    "    #print(best_angle_3)\n",
    "    # process the first time course\n",
    "    best_diff_4 = math.inf\n",
    "    best_angle_4 = -1\n",
    "    for i in range(0, 23):\n",
    "        diff = abs(whitfield_subset_micro_array_df.loc[gene_name][i+68] - expression_scRNA)\n",
    "        if (diff < best_diff_4):\n",
    "            best_diff_4 = diff\n",
    "            best_angle_4 = time_course_4_angles_list[i]\n",
    "    #print(whitfield_subset_micro_array_df.loc[gene_name][68:91])\n",
    "    #print(best_diff_4)\n",
    "    #print(best_angle_4)\n",
    "    \n",
    "    #print(gene_name)\n",
    "    count += 1\n",
    "    #print(expression_scRNA)\n",
    "    \n",
    "    sin_sum = math.sin(best_angle_1) + math.sin(best_angle_2) + math.sin(best_angle_3) + math.sin(best_angle_4)\n",
    "    cos_sum = math.cos(best_angle_1) + math.cos(best_angle_2) + math.cos(best_angle_3) + math.cos(best_angle_4)\n",
    "    average_gene_angle = math.atan2(sin_sum, cos_sum)\n",
    "    \n",
    "    #TRY - just the first time course\n",
    "    average_gene_angle = best_angle_1\n",
    "    \n",
    "    #print(average_gene_angle)\n",
    "    all_genes_sine_sum += math.sin(average_gene_angle)\n",
    "    all_genes_cosine_sum += math.cos(average_gene_angle)\n",
    "    all_genes_angle_list.append(average_gene_angle)\n",
    "    #print(average_gene_angle)\n",
    "    #if (count >3):\n",
    "    #    break\n",
    "import matplotlib.pyplot as plt\n",
    "plt.hist(all_genes_angle_list, bins=100)\n",
    "plt.xlabel('Angles of Genes voting for Single Cell ' + cell_name)\n",
    "plt.ylabel('Frequency')\n",
    "plt.title('Angle Distribution')\n",
    "plt.show()"
   ]
  },
  {
   "cell_type": "code",
   "execution_count": 343,
   "metadata": {
    "collapsed": false
   },
   "outputs": [
    {
     "name": "stdout",
     "output_type": "stream",
     "text": [
      "-0.4454148518479385\n"
     ]
    }
   ],
   "source": [
    "all_gene_angle = math.atan2(all_genes_sine_sum, all_genes_cosine_sum)\n",
    "print(all_gene_angle)"
   ]
  },
  {
   "cell_type": "code",
   "execution_count": null,
   "metadata": {
    "collapsed": false
   },
   "outputs": [],
   "source": []
  },
  {
   "cell_type": "code",
   "execution_count": 345,
   "metadata": {
    "collapsed": false
   },
   "outputs": [
    {
     "data": {
      "image/png": "[encoded data removed]",
      "text/plain": [
       "<matplotlib.figure.Figure at 0x7f54800e8da0>"
      ]
     },
     "metadata": {},
     "output_type": "display_data"
    }
   ],
   "source": [
    "#print(whitfield_subset_micro_array_df)\n",
    "#print(whitfield_subset_micro_array_df.sum(axis=0))\n",
    "from pylab import *\n",
    "figure(figsize=(16,8))\n",
    "ax=subplot(121, aspect='equal')\n",
    "\n",
    "#### All Genes\n",
    "\n",
    "# Move left y-axis and bottim x-axis to centre, passing through (0,0)\n",
    "ax.spines['left'].set_position('center')\n",
    "ax.spines['bottom'].set_position('center')\n",
    "\n",
    "# Eliminate upper and right axes\n",
    "ax.spines['right'].set_color('none')\n",
    "ax.spines['top'].set_color('none')\n",
    "\n",
    "# Show ticks in the left and lower axes only\n",
    "ax.xaxis.set_ticks_position('bottom')\n",
    "ax.yaxis.set_ticks_position('left')\n",
    "\n",
    "ax.xaxis.set_ticks(np.arange(-1.25, 1.5, 0.5))\n",
    "ax.yaxis.set_ticks(np.arange(-1.25, 1.5, 0.5))\n",
    "\n",
    "#plot one circle (the biggest one on bottom-right)\n",
    "# now make a circle with no fill, which is good for hi-lighting key results\n",
    "circle = Circle((0, 0), 1.0, color='#C1CDCD', fill=False)\n",
    "ax.add_artist(circle)\n",
    "#circles(1, 0, 0.5, 'r', alpha=0.2, lw=5, edgecolor='b', transform=ax.transAxes)\n",
    "\n",
    "#plot a set of circles (circles in diagonal)\n",
    "#a=arange(11)\n",
    "#out = circles(a, a, a*0.2, c=a, alpha=0.5, edgecolor='none')\n",
    "\n",
    "# Create a Rectangle patches\n",
    "for gene_name in cell_cycle_genes_for_analysis:\n",
    "    use_color = 'gray'\n",
    "    if (gene_name_to_time_course_expressions_dict[gene_name][\"phase\"] == 'G1/S'):\n",
    "        use_color = 'green'\n",
    "    elif (gene_name_to_time_course_expressions_dict[gene_name][\"phase\"] == 'S'):\n",
    "        use_color = 'blue'\n",
    "    elif (gene_name_to_time_course_expressions_dict[gene_name][\"phase\"] == 'G2'):\n",
    "        use_color = 'red'\n",
    "    elif (gene_name_to_time_course_expressions_dict[gene_name][\"phase\"] == 'G2/M'):\n",
    "        use_color = 'orange'\n",
    "    elif (gene_name_to_time_course_expressions_dict[gene_name][\"phase\"] == 'M/G1'):\n",
    "        use_color = 'black'\n",
    "    rect = Rectangle((gene_name_to_time_course_expressions_dict[gene_name][\"cosine\"]-0.01,gene_name_to_time_course_expressions_dict[gene_name][\"sine\"]-0.01),0.02,0.02,linewidth=1,edgecolor=use_color,facecolor=use_color,zorder=9)\n",
    "    # Add the patch to the Axes\n",
    "    ax.add_patch(rect)\n",
    "    \n",
    "text(1.15, 0.1, \"G1/S\", color='green')\n",
    "text(0.5, 1, \"S\", color='blue')\n",
    "text(-1.15, 0.1, \"G2\", color='red')\n",
    "text(-0.75, -1, \"G2/M\", color='orange')\n",
    "text(-0.25, -1.1, \"M/G1\", color='black')\n",
    "\n",
    "title(\"Micro-Array Angles and Phases Of Genes\\n\", fontsize=16)\n",
    "\n",
    "##########\n",
    "# Now the Selected Cell\n",
    "\n",
    "ax=subplot(122, aspect='equal')\n",
    "\n",
    "#### All Genes\n",
    "\n",
    "# Move left y-axis and bottim x-axis to centre, passing through (0,0)\n",
    "ax.spines['left'].set_position('center')\n",
    "ax.spines['bottom'].set_position('center')\n",
    "\n",
    "# Eliminate upper and right axes\n",
    "ax.spines['right'].set_color('none')\n",
    "ax.spines['top'].set_color('none')\n",
    "\n",
    "# Show ticks in the left and lower axes only\n",
    "ax.xaxis.set_ticks_position('bottom')\n",
    "ax.yaxis.set_ticks_position('left')\n",
    "\n",
    "ax.xaxis.set_ticks(np.arange(-1.25, 1.5, 0.5))\n",
    "ax.yaxis.set_ticks(np.arange(-1.25, 1.5, 0.5))\n",
    "\n",
    "#plot one circle (the biggest one on bottom-right)\n",
    "# now make a circle with no fill, which is good for hi-lighting key results\n",
    "circle = Circle((0, 0), 1.0, color='#C1CDCD', fill=False)\n",
    "ax.add_artist(circle)\n",
    "#circles(1, 0, 0.5, 'r', alpha=0.2, lw=5, edgecolor='b', transform=ax.transAxes)\n",
    "\n",
    "#plot a set of circles (circles in diagonal)\n",
    "#a=arange(11)\n",
    "#out = circles(a, a, a*0.2, c=a, alpha=0.5, edgecolor='none')\n",
    "\n",
    "# Create a Rectangle patches\n",
    "for angle in all_genes_angle_list:\n",
    "    #print(angle)\n",
    "    rect = Rectangle((math.cos(angle)-0.01,math.sin(angle)-0.01),0.02,0.02,linewidth=1,edgecolor='gray',facecolor='gray',zorder=9)\n",
    "    # Add the patch to the Axes\n",
    "    #print(math.cos(angle))\n",
    "    ax.add_patch(rect)\n",
    "\n",
    "# add the computed average angle\n",
    "rect = Rectangle((math.cos(all_gene_angle)-0.025,math.sin(all_gene_angle)-0.025),0.05,0.05,linewidth=1,edgecolor='blue',facecolor='blue',zorder=10)\n",
    "# Add the patch to the Axes\n",
    "ax.add_patch(rect)\n",
    "\n",
    "title(\"Cell \" + cell_name + \" Gene Votes and Average Angle\\n\", fontsize=16)\n",
    "\n",
    "xlim(-1.25,1.25)\n",
    "ylim(-1.25, 1.25)\n",
    "\n",
    "show()\n"
   ]
  },
  {
   "cell_type": "code",
   "execution_count": null,
   "metadata": {
    "collapsed": true
   },
   "outputs": [],
   "source": []
  }
 ],
 "metadata": {
  "kernelspec": {
   "display_name": "Python 3",
   "language": "python",
   "name": "python3"
  },
  "language_info": {
   "codemirror_mode": {
    "name": "ipython",
    "version": 3
   },
   "file_extension": ".py",
   "mimetype": "text/x-python",
   "name": "python",
   "nbconvert_exporter": "python",
   "pygments_lexer": "ipython3",
   "version": "3.6.0"
  }
 },
 "nbformat": 4,
 "nbformat_minor": 2
}
