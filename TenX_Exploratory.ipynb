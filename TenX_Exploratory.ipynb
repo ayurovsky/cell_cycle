{
 "cells": [
  {
   "cell_type": "code",
   "execution_count": 4,
   "metadata": {
    "collapsed": false
   },
   "outputs": [
    {
     "name": "stdout",
     "output_type": "stream",
     "text": [
      "--2018-06-22 12:24:00--  http://cf.10xgenomics.com/samples/cell-exp/2.1.0/t_3k/t_3k_filtered_gene_bc_matrices.tar.gz\n",
      "Resolving cf.10xgenomics.com (cf.10xgenomics.com)... 52.84.122.185, 52.84.122.71, 52.84.122.77, ...\n",
      "Connecting to cf.10xgenomics.com (cf.10xgenomics.com)|52.84.122.185|:80... connected.\n",
      "HTTP request sent, awaiting response... 200 OK\n",
      "Length: 13257230 (13M) [application/x-tar]\n",
      "Saving to: ‘t_3k_filtered_gene_bc_matrices.tar.gz’\n",
      "\n",
      "100%[======================================>] 13,257,230  54.3MB/s   in 0.2s   \n",
      "\n",
      "2018-06-22 12:24:01 (54.3 MB/s) - ‘t_3k_filtered_gene_bc_matrices.tar.gz’ saved [13257230/13257230]\n",
      "\n"
     ]
    }
   ],
   "source": [
    "#https://support.10xgenomics.com/single-cell-gene-expression/datasets/2.1.0/t_3k\n",
    "!wget --no-check-certificate http://cf.10xgenomics.com/samples/cell-exp/2.1.0/t_3k/t_3k_filtered_gene_bc_matrices.tar.gz"
   ]
  },
  {
   "cell_type": "code",
   "execution_count": 5,
   "metadata": {
    "collapsed": false
   },
   "outputs": [],
   "source": [
    "!tar -xzf t_3k_filtered_gene_bc_matrices.tar.gz"
   ]
  },
  {
   "cell_type": "code",
   "execution_count": 6,
   "metadata": {
    "collapsed": true
   },
   "outputs": [],
   "source": [
    "!rm t_3k_filtered_gene_bc_matrices.tar.gz"
   ]
  },
  {
   "cell_type": "code",
   "execution_count": 96,
   "metadata": {
    "collapsed": false
   },
   "outputs": [],
   "source": [
    "import csv\n",
    "import os\n",
    "import scipy.io\n",
    "from scipy.sparse import coo_matrix\n",
    "mat = scipy.io.mmread(os.path.join(\"filtered_gene_bc_matrices/GRCh38/matrix.mtx\"))\n",
    "mat_expr = mat.tocsc()"
   ]
  },
  {
   "cell_type": "code",
   "execution_count": 97,
   "metadata": {
    "collapsed": true
   },
   "outputs": [],
   "source": [
    "genes_path = \"filtered_gene_bc_matrices/GRCh38/genes.tsv\"\n",
    "barcodes_path = \"filtered_gene_bc_matrices/GRCh38/barcodes.tsv\"\n",
    "gene_ids = [row[0] for row in csv.reader(open(genes_path), delimiter=\"\\t\")]\n",
    "gene_names = [row[1] for row in csv.reader(open(genes_path), delimiter=\"\\t\")]\n",
    "barcodes = [row[0] for row in csv.reader(open(barcodes_path), delimiter=\"\\t\")]"
   ]
  },
  {
   "cell_type": "code",
   "execution_count": 64,
   "metadata": {
    "collapsed": false
   },
   "outputs": [
    {
     "name": "stdout",
     "output_type": "stream",
     "text": [
      "33694\n",
      "3555\n",
      "(33694, 3555)\n",
      "(33694, 3555)\n",
      "0\n"
     ]
    }
   ],
   "source": [
    "print(len(gene_names))\n",
    "print(len(barcodes))\n",
    "print(mat.shape)\n",
    "print(mat_expr.shape)\n",
    "print(mat_expr[3369,1000])"
   ]
  },
  {
   "cell_type": "code",
   "execution_count": 47,
   "metadata": {
    "collapsed": false
   },
   "outputs": [],
   "source": [
    "mat_dense = mat_expr.todense()"
   ]
  },
  {
   "cell_type": "code",
   "execution_count": 66,
   "metadata": {
    "collapsed": false
   },
   "outputs": [
    {
     "name": "stdout",
     "output_type": "stream",
     "text": [
      "4067948\n",
      "[[0 0 0 ... 0 0 0]]\n",
      "hi\n"
     ]
    }
   ],
   "source": [
    "from numpy import count_nonzero\n",
    "print(count_nonzero(mat_dense))\n",
    "print(sum(mat_dense[300]))\n",
    "print(\"hi\")"
   ]
  },
  {
   "cell_type": "code",
   "execution_count": 99,
   "metadata": {
    "collapsed": false
   },
   "outputs": [
    {
     "name": "stdout",
     "output_type": "stream",
     "text": [
      "20289\n",
      "GAPDH\n",
      "3555\n",
      "3555\n",
      "210\n",
      "3032\n",
      "[ 5  1  2  2  1  5  1  6  5  2  0  3  2  2  3  5  1  0 65  2  3  3  1  2\n",
      "  2  5  0  2  1  1  1  1  1  1  2  3  1  0  2  1  2  4  3  2  1  1  1  0\n",
      "  1  4  3  6  4  3  3  4  3  5  3  0  0  3  3  7  4  1  3  7  3  6  0  3\n",
      "  2  2  4  4  9  5  1  3  3  1  2  3  2  0  4  1  1  0  0  1  0  1  0  4\n",
      "  2  1  4  4]\n"
     ]
    }
   ],
   "source": [
    "import numpy as np\n",
    "gene_indices = gene_names.index(\"GAPDH\")\n",
    "print(gene_indices)\n",
    "print(gene_names[20289])\n",
    "print(len(barcodes))\n",
    "expr = mat_expr[20289, :].toarray().squeeze()\n",
    "print(len(expr))\n",
    "print(max(expr))\n",
    "print(count_nonzero(expr))\n",
    "print(expr[0:100])"
   ]
  },
  {
   "cell_type": "raw",
   "metadata": {},
   "source": []
  },
  {
   "cell_type": "code",
   "execution_count": 113,
   "metadata": {
    "collapsed": false
   },
   "outputs": [
    {
     "name": "stdout",
     "output_type": "stream",
     "text": [
      "[ 4573  3953  4326 ... 11171  3428  4851]\n"
     ]
    }
   ],
   "source": [
    "umis_per_cell = np.asarray(mat_expr.sum(axis=0)).squeeze()\n",
    "genes_per_cell = np.asarray((mat_expr > 0).sum(axis=0)).squeeze()\n",
    "print(umis_per_cell)"
   ]
  },
  {
   "cell_type": "code",
   "execution_count": 109,
   "metadata": {
    "collapsed": false
   },
   "outputs": [
    {
     "data": {
      "image/png": "[encoded data removed]",
      "text/plain": [
       "<matplotlib.figure.Figure at 0x7f191afc2e10>"
      ]
     },
     "metadata": {},
     "output_type": "display_data"
    }
   ],
   "source": [
    "import matplotlib.pyplot as plt\n",
    "plt.hist(genes_per_cell, bins=20)\n",
    "plt.xlabel('Genes per Cell')\n",
    "plt.ylabel('Frequency')\n",
    "plt.title('Gene Distribution')\n",
    "plt.show()"
   ]
  },
  {
   "cell_type": "code",
   "execution_count": 114,
   "metadata": {
    "collapsed": false
   },
   "outputs": [
    {
     "data": {
      "image/png": "[encoded data removed]",
      "text/plain": [
       "<matplotlib.figure.Figure at 0x7f191b041710>"
      ]
     },
     "metadata": {},
     "output_type": "display_data"
    }
   ],
   "source": [
    "# plot UMIs per cell\n",
    "plt.hist(np.log10(umis_per_cell), bins=20)\n",
    "plt.xlabel('UMIS per cell (log10)')\n",
    "plt.ylabel('Frequency')\n",
    "plt.title('UMI Distribution')\n",
    "plt.show()"
   ]
  },
  {
   "cell_type": "code",
   "execution_count": 115,
   "metadata": {
    "collapsed": false
   },
   "outputs": [
    {
     "name": "stdout",
     "output_type": "stream",
     "text": [
      "--2018-06-22 16:11:55--  http://cf.10xgenomics.com/samples/cell-exp/2.1.0/t_3k/t_3k_analysis.tar.gz\n",
      "Resolving cf.10xgenomics.com (cf.10xgenomics.com)... 52.84.122.102, 52.84.122.185, 52.84.122.77, ...\n",
      "Connecting to cf.10xgenomics.com (cf.10xgenomics.com)|52.84.122.102|:80... connected.\n",
      "HTTP request sent, awaiting response... 200 OK\n",
      "Length: 16905495 (16M) [application/x-tar]\n",
      "Saving to: ‘t_3k_analysis.tar.gz’\n",
      "\n",
      "100%[======================================>] 16,905,495  4.73MB/s   in 3.6s   \n",
      "\n",
      "2018-06-22 16:11:58 (4.53 MB/s) - ‘t_3k_analysis.tar.gz’ saved [16905495/16905495]\n",
      "\n"
     ]
    }
   ],
   "source": [
    "!wget --no-check-certificate http://cf.10xgenomics.com/samples/cell-exp/2.1.0/t_3k/t_3k_analysis.tar.gz"
   ]
  },
  {
   "cell_type": "code",
   "execution_count": 116,
   "metadata": {
    "collapsed": true
   },
   "outputs": [],
   "source": [
    "!tar -xzf t_3k_analysis.tar.gz\n",
    "!rm t_3k_analysis.tar.gz"
   ]
  },
  {
   "cell_type": "code",
   "execution_count": null,
   "metadata": {
    "collapsed": true
   },
   "outputs": [],
   "source": []
  }
 ],
 "metadata": {
  "kernelspec": {
   "display_name": "Python 3",
   "language": "python",
   "name": "python3"
  },
  "language_info": {
   "codemirror_mode": {
    "name": "ipython",
    "version": 3
   },
   "file_extension": ".py",
   "mimetype": "text/x-python",
   "name": "python",
   "nbconvert_exporter": "python",
   "pygments_lexer": "ipython3",
   "version": "3.6.0"
  }
 },
 "nbformat": 4,
 "nbformat_minor": 2
}
